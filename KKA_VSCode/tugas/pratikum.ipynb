{
 "cells": [
  {
   "cell_type": "markdown",
   "id": "500bdd34",
   "metadata": {},
   "source": [
    "Pratikum dasar python"
   ]
  },
  {
   "cell_type": "markdown",
   "id": "a2e70f19",
   "metadata": {},
   "source": [
    "#1 Variabel dan tipe data"
   ]
  },
  {
   "cell_type": "code",
   "execution_count": null,
   "id": "5ed38d2a",
   "metadata": {},
   "outputs": [],
   "source": [
    "x_int = 10\n",
    "x_float = 3.14\n",
    "x_str = \"Belajar Python\"\n",
    "x_list = [1, 2, 3]\n",
    "\n",
    "\n",
    "print(type(x_int))\n",
    "print(type(x_float))\n",
    "print(type(x_str))\n",
    "print(type(x_list))\n",
    "\n"
   ]
  },
  {
   "cell_type": "markdown",
   "id": "e7bb304e",
   "metadata": {},
   "source": [
    "#2 List dan manipulasi"
   ]
  },
  {
   "cell_type": "code",
   "execution_count": null,
   "id": "d7d909a2",
   "metadata": {},
   "outputs": [],
   "source": [
    "belanja = [\"beras\", \"minyak\", \"telur\"]\n",
    "belanja.append(\"gula\")\n",
    "belanja.append(\"kopi\")\n",
    "\n",
    "for item in belanja:\n",
    "    print(item)"
   ]
  },
  {
   "cell_type": "markdown",
   "id": "41bdd4d3",
   "metadata": {},
   "source": [
    "#3 Dictionary"
   ]
  },
  {
   "cell_type": "code",
   "execution_count": null,
   "id": "e50380be",
   "metadata": {},
   "outputs": [],
   "source": [
    "harga_belanja = {\n",
    "    \"beras\": 12000,\n",
    "    \"minyak\": 17000,\n",
    "    \"telur\": 24000,\n",
    "    \"gula\": 15000,\n",
    "    \"kopi\": 20000\n",
    "}\n",
    "\n",
    "total = 0\n",
    "for barang, harga in harga_belanja.items():\n",
    "    print(f\"{barang}: {harga}\")\n",
    "    total += harga\n",
    "print(\"Total belanja =\", total)\n"
   ]
  },
  {
   "cell_type": "markdown",
   "id": "d962e125",
   "metadata": {},
   "source": [
    "#4 Fungsi"
   ]
  },
  {
   "cell_type": "code",
   "execution_count": null,
   "id": "9e780e79",
   "metadata": {},
   "outputs": [],
   "source": [
    "def persegi_panjang(panjang, lebar):\n",
    "    luas = panjang * lebar\n",
    "    keliling = 2 * (panjang + lebar)\n",
    "    return luas, keliling\n",
    "\n",
    "luas, keliling = persegi_panjang(10, 5)\n",
    "print(\"Luas =\", luas)\n",
    "print(\"Keliling =\", keliling)\n"
   ]
  },
  {
   "cell_type": "markdown",
   "id": "f33bc5f5",
   "metadata": {},
   "source": [
    "#5 Percabangan"
   ]
  },
  {
   "cell_type": "code",
   "execution_count": null,
   "id": "ff5fc8f7",
   "metadata": {},
   "outputs": [],
   "source": [
    "usia = int(input(\"Masukkan usia: \"))\n",
    "if 0 <= usia <= 13:\n",
    "    print(\"Anak\")\n",
    "elif 14 <= usia <= 24:\n",
    "    print(\"Remaja\")\n",
    "elif 25 <= usia <= 49:\n",
    "    print(\"Dewasa\")\n",
    "elif usia >= 50:\n",
    "    print(\"Lansia\")\n",
    "else:\n",
    "    print(\"Usia tidak valid\")\n",
    "    "
   ]
  }
 ],
 "metadata": {
  "kernelspec": {
   "display_name": "Python 3",
   "language": "python",
   "name": "python3"
  },
  "language_info": {
   "name": "python",
   "version": "3.12.8"
  }
 },
 "nbformat": 4,
 "nbformat_minor": 5
}
