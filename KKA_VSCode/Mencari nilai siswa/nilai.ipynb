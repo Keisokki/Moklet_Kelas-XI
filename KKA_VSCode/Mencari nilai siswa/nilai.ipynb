{
 "cells": [
  {
   "cell_type": "markdown",
   "id": "daaa5837",
   "metadata": {},
   "source": [
    "import libraries"
   ]
  },
  {
   "cell_type": "code",
   "execution_count": 1,
   "id": "55a71172",
   "metadata": {},
   "outputs": [],
   "source": [
    "import pandas as pd\n",
    "import matplotlib.pyplot as plt\n",
    "import seaborn as sns"
   ]
  },
  {
   "cell_type": "markdown",
   "id": "36ad9f98",
   "metadata": {},
   "source": [
    "Dataset"
   ]
  },
  {
   "cell_type": "code",
   "execution_count": 2,
   "id": "14573d7c",
   "metadata": {},
   "outputs": [],
   "source": [
    "data = pd.read_csv('nilai_siswa.csv')"
   ]
  },
  {
   "cell_type": "code",
   "execution_count": 5,
   "id": "ba64478a",
   "metadata": {},
   "outputs": [
    {
     "data": {
      "text/html": [
       "<div>\n",
       "<style scoped>\n",
       "    .dataframe tbody tr th:only-of-type {\n",
       "        vertical-align: middle;\n",
       "    }\n",
       "\n",
       "    .dataframe tbody tr th {\n",
       "        vertical-align: top;\n",
       "    }\n",
       "\n",
       "    .dataframe thead th {\n",
       "        text-align: right;\n",
       "    }\n",
       "</style>\n",
       "<table border=\"1\" class=\"dataframe\">\n",
       "  <thead>\n",
       "    <tr style=\"text-align: right;\">\n",
       "      <th></th>\n",
       "      <th>Nama;Matpel;Nilai</th>\n",
       "    </tr>\n",
       "  </thead>\n",
       "  <tbody>\n",
       "    <tr>\n",
       "      <th>0</th>\n",
       "      <td>Ade;Bahasa Indonesia;87</td>\n",
       "    </tr>\n",
       "    <tr>\n",
       "      <th>1</th>\n",
       "      <td>Aira;Bahasa Indonesia;88</td>\n",
       "    </tr>\n",
       "    <tr>\n",
       "      <th>2</th>\n",
       "      <td>Badi;Bahasa Inggris;78</td>\n",
       "    </tr>\n",
       "    <tr>\n",
       "      <th>3</th>\n",
       "      <td>Cyla;Bahasa Inggris;90</td>\n",
       "    </tr>\n",
       "    <tr>\n",
       "      <th>4</th>\n",
       "      <td>Khansa;Matematika;98</td>\n",
       "    </tr>\n",
       "  </tbody>\n",
       "</table>\n",
       "</div>"
      ],
      "text/plain": [
       "          Nama;Matpel;Nilai\n",
       "0   Ade;Bahasa Indonesia;87\n",
       "1  Aira;Bahasa Indonesia;88\n",
       "2    Badi;Bahasa Inggris;78\n",
       "3    Cyla;Bahasa Inggris;90\n",
       "4      Khansa;Matematika;98"
      ]
     },
     "execution_count": 5,
     "metadata": {},
     "output_type": "execute_result"
    }
   ],
   "source": [
    "data.head()"
   ]
  },
  {
   "cell_type": "code",
   "execution_count": 12,
   "id": "c9b13195",
   "metadata": {},
   "outputs": [
    {
     "data": {
      "text/html": [
       "<div>\n",
       "<style scoped>\n",
       "    .dataframe tbody tr th:only-of-type {\n",
       "        vertical-align: middle;\n",
       "    }\n",
       "\n",
       "    .dataframe tbody tr th {\n",
       "        vertical-align: top;\n",
       "    }\n",
       "\n",
       "    .dataframe thead th {\n",
       "        text-align: right;\n",
       "    }\n",
       "</style>\n",
       "<table border=\"1\" class=\"dataframe\">\n",
       "  <thead>\n",
       "    <tr style=\"text-align: right;\">\n",
       "      <th></th>\n",
       "      <th>Nama;Matpel;Nilai</th>\n",
       "    </tr>\n",
       "  </thead>\n",
       "  <tbody>\n",
       "    <tr>\n",
       "      <th>count</th>\n",
       "      <td>22</td>\n",
       "    </tr>\n",
       "    <tr>\n",
       "      <th>unique</th>\n",
       "      <td>22</td>\n",
       "    </tr>\n",
       "    <tr>\n",
       "      <th>top</th>\n",
       "      <td>Ade;Bahasa Indonesia;87</td>\n",
       "    </tr>\n",
       "    <tr>\n",
       "      <th>freq</th>\n",
       "      <td>1</td>\n",
       "    </tr>\n",
       "  </tbody>\n",
       "</table>\n",
       "</div>"
      ],
      "text/plain": [
       "              Nama;Matpel;Nilai\n",
       "count                        22\n",
       "unique                       22\n",
       "top     Ade;Bahasa Indonesia;87\n",
       "freq                          1"
      ]
     },
     "execution_count": 12,
     "metadata": {},
     "output_type": "execute_result"
    }
   ],
   "source": [
    "data.describe()"
   ]
  },
  {
   "cell_type": "markdown",
   "id": "d3412f1b",
   "metadata": {},
   "source": [
    "Hitung rata-rata, median, modus"
   ]
  },
  {
   "cell_type": "code",
   "execution_count": 15,
   "id": "5b33f5a4",
   "metadata": {},
   "outputs": [
    {
     "name": "stdout",
     "output_type": "stream",
     "text": [
      "Rata-rata: 86.31818181818181\n",
      "Median: 86.5\n",
      "Modus: 85\n"
     ]
    }
   ],
   "source": [
    "# pisahkan kolom gabungan menjadi tiga kolom\n",
    "data = data['Nama;Matpel;Nilai'].str.split(';', expand=True)\n",
    "data.columns = ['Nama', 'Matpel', 'Nilai']\n",
    "\n",
    "# konversi ke numeric (jika ada nilai non-numeric jadi NaN)\n",
    "data['Nilai'] = pd.to_numeric(data['Nilai'], errors='coerce')\n",
    "\n",
    "# hitung statistik\n",
    "print(\"Rata-rata:\", data['Nilai'].mean())\n",
    "print(\"Median:\", data['Nilai'].median())\n",
    "print(\"Modus:\", data['Nilai'].mode().iat[0])  "
   ]
  },
  {
   "cell_type": "code",
   "execution_count": 17,
   "id": "afba7a34",
   "metadata": {},
   "outputs": [
    {
     "data": {
      "text/html": [
       "<div>\n",
       "<style scoped>\n",
       "    .dataframe tbody tr th:only-of-type {\n",
       "        vertical-align: middle;\n",
       "    }\n",
       "\n",
       "    .dataframe tbody tr th {\n",
       "        vertical-align: top;\n",
       "    }\n",
       "\n",
       "    .dataframe thead th {\n",
       "        text-align: right;\n",
       "    }\n",
       "</style>\n",
       "<table border=\"1\" class=\"dataframe\">\n",
       "  <thead>\n",
       "    <tr style=\"text-align: right;\">\n",
       "      <th></th>\n",
       "      <th>max</th>\n",
       "      <th>min</th>\n",
       "    </tr>\n",
       "    <tr>\n",
       "      <th>Matpel</th>\n",
       "      <th></th>\n",
       "      <th></th>\n",
       "    </tr>\n",
       "  </thead>\n",
       "  <tbody>\n",
       "    <tr>\n",
       "      <th>Bahasa Indonesia</th>\n",
       "      <td>88</td>\n",
       "      <td>75</td>\n",
       "    </tr>\n",
       "    <tr>\n",
       "      <th>Bahasa Inggris</th>\n",
       "      <td>90</td>\n",
       "      <td>78</td>\n",
       "    </tr>\n",
       "    <tr>\n",
       "      <th>Fisika</th>\n",
       "      <td>95</td>\n",
       "      <td>75</td>\n",
       "    </tr>\n",
       "    <tr>\n",
       "      <th>Matematika</th>\n",
       "      <td>98</td>\n",
       "      <td>85</td>\n",
       "    </tr>\n",
       "    <tr>\n",
       "      <th>Produktif</th>\n",
       "      <td>90</td>\n",
       "      <td>80</td>\n",
       "    </tr>\n",
       "  </tbody>\n",
       "</table>\n",
       "</div>"
      ],
      "text/plain": [
       "                  max  min\n",
       "Matpel                    \n",
       "Bahasa Indonesia   88   75\n",
       "Bahasa Inggris     90   78\n",
       "Fisika             95   75\n",
       "Matematika         98   85\n",
       "Produktif          90   80"
      ]
     },
     "execution_count": 17,
     "metadata": {},
     "output_type": "execute_result"
    }
   ],
   "source": [
    "data.groupby('Matpel')['Nilai'].agg(['max','min'])"
   ]
  },
  {
   "cell_type": "markdown",
   "id": "8602b659",
   "metadata": {},
   "source": [
    "Chart"
   ]
  },
  {
   "cell_type": "code",
   "execution_count": 20,
   "id": "20b9033d",
   "metadata": {},
   "outputs": [
    {
     "data": {
      "image/png": "[encoded data removed]",
      "text/plain": [
       "<Figure size 640x480 with 1 Axes>"
      ]
     },
     "metadata": {},
     "output_type": "display_data"
    }
   ],
   "source": [
    "rata = data.groupby('Matpel')['Nilai'].mean()\n",
    "rata.plot(kind='bar')\n",
    "\n",
    "plt.title('Rata-Rata Nilai per Mapel')\n",
    "plt.xlabel('Mata Pelajaran')\n",
    "plt.ylabel('Nilai Rata-Rata')\n",
    "plt.show()"
   ]
  },
  {
   "cell_type": "code",
   "execution_count": 24,
   "id": "1cfeece2",
   "metadata": {},
   "outputs": [
    {
     "data": {
      "image/png": "[encoded data removed]",
      "text/plain": [
       "<Figure size 640x480 with 1 Axes>"
      ]
     },
     "metadata": {},
     "output_type": "display_data"
    }
   ],
   "source": [
    "sns.boxplot(x='Matpel', y='Nilai', data=data)\n",
    "plt.title('Sebaran Nilai per Mata Pelajaran')\n",
    "plt.show()"
   ]
  },
  {
   "cell_type": "markdown",
   "id": "cec467e6",
   "metadata": {},
   "source": [
    "#Analisis  dan Pertanyaan"
   ]
  },
  {
   "cell_type": "markdown",
   "id": "97408afd",
   "metadata": {},
   "source": [
    "1. Mapel mana yang memiliki rata-rata nilai tertinggi?\n",
    "\n",
    "Jawaban: Matematika"
   ]
  },
  {
   "cell_type": "markdown",
   "id": "239a8da0",
   "metadata": {},
   "source": [
    "2. Mapel mana yang memiliki nilai terendah?\n",
    "\n",
    "Jawaban: Produktif"
   ]
  },
  {
   "cell_type": "markdown",
   "id": "64339780",
   "metadata": {},
   "source": [
    "3. Apa kesimpulan yang dapat kamu ambil dari grafik batang tersebut?\n",
    "\n",
    "Jawaban: Rata-rata nilai tertinggi adalah mapel Matematika, sementara rata rata nilai terendah adalah Produktif"
   ]
  },
  {
   "cell_type": "markdown",
   "id": "c624692f",
   "metadata": {},
   "source": [
    "4. Bagaimana visualisasi membantu dalam memahami data?\n",
    "\n",
    "Jawaban: Sangat membantu, karena kita dapat memvisualisasikan data"
   ]
  },
  {
   "cell_type": "markdown",
   "id": "eaaeb023",
   "metadata": {},
   "source": [
    "#Refleksi Siswa"
   ]
  },
  {
   "cell_type": "markdown",
   "id": "c6b4d964",
   "metadata": {},
   "source": [
    "1. Apa hal baru yang kamu pelajari dari kegiatan analisis dan visualisasi data?\n",
    "\n",
    "Jawaban: Dapat mengetahui cara menganalisis dan memvisualisasikan data menggunakan Python"
   ]
  },
  {
   "cell_type": "markdown",
   "id": "4379ac3f",
   "metadata": {},
   "source": [
    "2. Kesulitan apa yang kamu alami dalam membuat grafik?\n",
    "\n",
    "Jawaban: Saat mengalami error"
   ]
  },
  {
   "cell_type": "markdown",
   "id": "499a34f9",
   "metadata": {},
   "source": [
    "3. Menurtu kamu AI apa membantu dalam analysis sebuah data?\n",
    "\n",
    "jawaban: Sangat membantu"
   ]
  }
 ],
 "metadata": {
  "kernelspec": {
   "display_name": "Python 3",
   "language": "python",
   "name": "python3"
  },
  "language_info": {
   "codemirror_mode": {
    "name": "ipython",
    "version": 3
   },
   "file_extension": ".py",
   "mimetype": "text/x-python",
   "name": "python",
   "nbconvert_exporter": "python",
   "pygments_lexer": "ipython3",
   "version": "3.12.8"
  }
 },
 "nbformat": 4,
 "nbformat_minor": 5
}
